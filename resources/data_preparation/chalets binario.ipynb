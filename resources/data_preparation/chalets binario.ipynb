{
 "cells": [
  {
   "cell_type": "code",
   "execution_count": 1,
   "metadata": {},
   "outputs": [],
   "source": [
    "#SE IMPORTAN LAS LIBRERÍAS NECESARIAS.\n",
    "import pandas as pd\n",
    "import xgboost as xgb\n",
    "import numpy as np\n",
    "from numpy import loadtxt\n",
    "from xgboost import XGBClassifier\n",
    "from sklearn.model_selection import train_test_split\n",
    "from sklearn.metrics import accuracy_score\n",
    "from sklearn.model_selection import cross_val_score\n",
    "from sklearn.model_selection import KFold\n",
    "from sklearn.metrics import classification_report\n",
    "from sklearn.metrics import confusion_matrix"
   ]
  },
  {
   "cell_type": "code",
   "execution_count": 2,
   "metadata": {},
   "outputs": [
    {
     "data": {
      "text/html": [
       "<div>\n",
       "<style scoped>\n",
       "    .dataframe tbody tr th:only-of-type {\n",
       "        vertical-align: middle;\n",
       "    }\n",
       "\n",
       "    .dataframe tbody tr th {\n",
       "        vertical-align: top;\n",
       "    }\n",
       "\n",
       "    .dataframe thead th {\n",
       "        text-align: right;\n",
       "    }\n",
       "</style>\n",
       "<table border=\"1\" class=\"dataframe\">\n",
       "  <thead>\n",
       "    <tr style=\"text-align: right;\">\n",
       "      <th></th>\n",
       "      <th>est_sqft_liv_area</th>\n",
       "      <th>est_valor_zipcode</th>\n",
       "      <th>est_num_baths</th>\n",
       "      <th>est_year_built</th>\n",
       "      <th>pool_yn.Yes</th>\n",
       "      <th>association_fee.yes</th>\n",
       "      <th>waterfront_property_yn.Yes</th>\n",
       "      <th>binaria</th>\n",
       "    </tr>\n",
       "  </thead>\n",
       "  <tbody>\n",
       "    <tr>\n",
       "      <td>1</td>\n",
       "      <td>-1.158703</td>\n",
       "      <td>-0.088449</td>\n",
       "      <td>-1.552425</td>\n",
       "      <td>-0.789076</td>\n",
       "      <td>0</td>\n",
       "      <td>0</td>\n",
       "      <td>0</td>\n",
       "      <td>0</td>\n",
       "    </tr>\n",
       "    <tr>\n",
       "      <td>2</td>\n",
       "      <td>0.009971</td>\n",
       "      <td>0.077384</td>\n",
       "      <td>0.661896</td>\n",
       "      <td>-0.175190</td>\n",
       "      <td>0</td>\n",
       "      <td>0</td>\n",
       "      <td>0</td>\n",
       "      <td>0</td>\n",
       "    </tr>\n",
       "    <tr>\n",
       "      <td>3</td>\n",
       "      <td>-0.445946</td>\n",
       "      <td>0.077384</td>\n",
       "      <td>-0.445265</td>\n",
       "      <td>1.052582</td>\n",
       "      <td>0</td>\n",
       "      <td>0</td>\n",
       "      <td>0</td>\n",
       "      <td>0</td>\n",
       "    </tr>\n",
       "    <tr>\n",
       "      <td>4</td>\n",
       "      <td>-1.184490</td>\n",
       "      <td>0.077384</td>\n",
       "      <td>-0.445265</td>\n",
       "      <td>-0.930742</td>\n",
       "      <td>0</td>\n",
       "      <td>0</td>\n",
       "      <td>0</td>\n",
       "      <td>0</td>\n",
       "    </tr>\n",
       "    <tr>\n",
       "      <td>5</td>\n",
       "      <td>-0.358270</td>\n",
       "      <td>0.077384</td>\n",
       "      <td>-0.445265</td>\n",
       "      <td>-0.930742</td>\n",
       "      <td>1</td>\n",
       "      <td>0</td>\n",
       "      <td>0</td>\n",
       "      <td>0</td>\n",
       "    </tr>\n",
       "  </tbody>\n",
       "</table>\n",
       "</div>"
      ],
      "text/plain": [
       "   est_sqft_liv_area  est_valor_zipcode  est_num_baths  est_year_built  \\\n",
       "1          -1.158703          -0.088449      -1.552425       -0.789076   \n",
       "2           0.009971           0.077384       0.661896       -0.175190   \n",
       "3          -0.445946           0.077384      -0.445265        1.052582   \n",
       "4          -1.184490           0.077384      -0.445265       -0.930742   \n",
       "5          -0.358270           0.077384      -0.445265       -0.930742   \n",
       "\n",
       "   pool_yn.Yes  association_fee.yes  waterfront_property_yn.Yes  binaria  \n",
       "1            0                    0                           0        0  \n",
       "2            0                    0                           0        0  \n",
       "3            0                    0                           0        0  \n",
       "4            0                    0                           0        0  \n",
       "5            1                    0                           0        0  "
      ]
     },
     "execution_count": 2,
     "metadata": {},
     "output_type": "execute_result"
    }
   ],
   "source": [
    "#SE IMPORTA EL ARCHIVO DE DATOS QUE SE EXPORTÓ DESDE R.\n",
    "datos=pd.read_csv('chalets_binario.csv',sep=',',quotechar='\"',index_col=0)\n",
    "datos.head(5)"
   ]
  },
  {
   "cell_type": "code",
   "execution_count": 3,
   "metadata": {},
   "outputs": [],
   "source": [
    "#SE ASIGNAN ROLES A LAS VARIABLES.\n",
    "X,y=datos.iloc[:,0:7],datos.iloc[:,-1]"
   ]
  },
  {
   "cell_type": "code",
   "execution_count": 4,
   "metadata": {},
   "outputs": [
    {
     "data": {
      "text/plain": [
       "1    0\n",
       "2    0\n",
       "3    0\n",
       "4    0\n",
       "5    0\n",
       "Name: binaria, dtype: int64"
      ]
     },
     "execution_count": 4,
     "metadata": {},
     "output_type": "execute_result"
    }
   ],
   "source": [
    "#SE COMPRUEBA QUE LOS DATOS ESTÁN BIEN SEPARADOS.\n",
    "X.head(5)\n",
    "y.head(5)"
   ]
  },
  {
   "cell_type": "code",
   "execution_count": 5,
   "metadata": {},
   "outputs": [],
   "source": [
    "#SE DIVIDEN LOS DATOS. 80% TRAIN Y 20% TEST. ESTO, PARA APLICAR LA FUNCIÓN PREDICT PARA DATOS NUEVOS.\n",
    "X_train, X_test, y_train, y_test = train_test_split(X,y,test_size=0.2,random_state=21045)"
   ]
  },
  {
   "cell_type": "code",
   "execution_count": 6,
   "metadata": {},
   "outputs": [
    {
     "name": "stderr",
     "output_type": "stream",
     "text": [
      "/opt/anaconda3/lib/python3.7/site-packages/sklearn/model_selection/_split.py:297: FutureWarning: Setting a random_state has no effect since shuffle is False. This will raise an error in 0.24. You should leave random_state to its default (None), or set shuffle=True.\n",
      "  FutureWarning\n"
     ]
    },
    {
     "name": "stdout",
     "output_type": "stream",
     "text": [
      "Accuracy: 96.98% (0.39%)\n"
     ]
    }
   ],
   "source": [
    "#MODELO XGBOOST CON HIPERPARÁMETROS DEFINIDOS EN R Y VALIDACIÓN CRUZADA.\n",
    "modelo=xgb.XGBClassifier(min_child_weight=5,n_estimators=800,max_depth=3,learning_rate=0.1,gamma=0.01,subsample=0.95,\n",
    "                         colsample_bytree=0.8,reg_alpha=0.01,reg_lambda=0.1,base_score=0.09,objective='binary:logistic')\n",
    "kfold=KFold(n_splits=10,random_state=21045)\n",
    "results=cross_val_score(modelo,X_train,y_train,cv=kfold)\n",
    "print(\"Accuracy: %.2f%% (%.2f%%)\" % (results.mean()*100, results.std()*100))"
   ]
  },
  {
   "cell_type": "code",
   "execution_count": 7,
   "metadata": {},
   "outputs": [
    {
     "data": {
      "text/plain": [
       "XGBClassifier(base_score=0.09, booster='gbtree', colsample_bylevel=1,\n",
       "              colsample_bynode=1, colsample_bytree=0.8, gamma=0.01, gpu_id=-1,\n",
       "              importance_type='gain', interaction_constraints='',\n",
       "              learning_rate=0.1, max_delta_step=0, max_depth=3,\n",
       "              min_child_weight=5, missing=nan, monotone_constraints='()',\n",
       "              n_estimators=800, n_jobs=0, num_parallel_tree=1, random_state=0,\n",
       "              reg_alpha=0.01, reg_lambda=0.1, scale_pos_weight=1,\n",
       "              subsample=0.95, tree_method='exact', validate_parameters=1,\n",
       "              verbosity=None)"
      ]
     },
     "execution_count": 7,
     "metadata": {},
     "output_type": "execute_result"
    }
   ],
   "source": [
    "#GENERACIÓN DEL MODELO.\n",
    "modelo.fit(X,y)"
   ]
  },
  {
   "cell_type": "code",
   "execution_count": 8,
   "metadata": {},
   "outputs": [],
   "source": [
    "#PREDICCIONES SOBRE 20% DE DATOS TEST SEPARADOS.\n",
    "y_pred=modelo.predict(X_test)\n",
    "predictions=[round(value) for value in y_pred]"
   ]
  },
  {
   "cell_type": "code",
   "execution_count": 9,
   "metadata": {},
   "outputs": [
    {
     "name": "stdout",
     "output_type": "stream",
     "text": [
      "Accuracy: 97.71%\n"
     ]
    }
   ],
   "source": [
    "#ACCURACY.\n",
    "accuracy=accuracy_score(y_test,predictions)\n",
    "print(\"Accuracy: %.2f%%\" % (accuracy*100.0))"
   ]
  },
  {
   "cell_type": "code",
   "execution_count": 10,
   "metadata": {},
   "outputs": [
    {
     "data": {
      "text/plain": [
       "['modelo_binario_chalets.model']"
      ]
     },
     "execution_count": 10,
     "metadata": {},
     "output_type": "execute_result"
    }
   ],
   "source": [
    "import joblib\n",
    "filename = 'modelo_binario_chalets.model'\n",
    "joblib.dump(modelo,filename)"
   ]
  },
  {
   "cell_type": "code",
   "execution_count": null,
   "metadata": {},
   "outputs": [],
   "source": []
  }
 ],
 "metadata": {
  "kernelspec": {
   "display_name": "Python 3",
   "language": "python",
   "name": "python3"
  },
  "language_info": {
   "codemirror_mode": {
    "name": "ipython",
    "version": 3
   },
   "file_extension": ".py",
   "mimetype": "text/x-python",
   "name": "python",
   "nbconvert_exporter": "python",
   "pygments_lexer": "ipython3",
   "version": "3.7.4"
  }
 },
 "nbformat": 4,
 "nbformat_minor": 4
}
